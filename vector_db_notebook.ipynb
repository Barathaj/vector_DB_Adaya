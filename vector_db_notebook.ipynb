{
  "nbformat": 4,
  "nbformat_minor": 0,
  "metadata": {
    "colab": {
      "provenance": []
    },
    "kernelspec": {
      "name": "python3",
      "display_name": "Python 3"
    },
    "language_info": {
      "name": "python"
    }
  },
  "cells": [
    {
      "cell_type": "markdown",
      "source": [
        "#Vector DataBase search Tool -  Adaya.ai"
      ],
      "metadata": {
        "id": "QILFxDwxI1V5"
      }
    },
    {
      "cell_type": "markdown",
      "source": [
        "#Objective: Create a basic search tool that uses a vector database to store and retrieve high-dimensional data, such as image embeddings or word vectors.\n",
        "\n",
        "##Task:\n",
        "Create the 512-dimensional vectors for the column - “Product Name” in the data file given below using TF-IDF technique.\n",
        "\n",
        "Implement a simple vector database using libraries like Faiss / Annoy / ChromaDB / Weaviate / Pinecone.\n",
        "\n",
        "Develop a method to add the documents and index vectors in the database. Each document should contain “Product Name”, “MRP”, “Short description” corresponding to that product name.\n",
        "\n",
        "Create an user interface where users can input a product name as a query and can retrieve 10 most similar product names and their details from the database.\n",
        "\n",
        "Document the procedure along with the results. Feel free to add reasoning  wherever it is required.  \n"
      ],
      "metadata": {
        "id": "6pu72-GPKTJL"
      }
    },
    {
      "cell_type": "code",
      "source": [
        "!pip install pinecone-client faiss-cpu pandas numpy sklearn Sentence-Transformers"
      ],
      "metadata": {
        "id": "RFF1ZzH4Gi7U"
      },
      "execution_count": null,
      "outputs": []
    },
    {
      "cell_type": "markdown",
      "source": [
        "#library"
      ],
      "metadata": {
        "id": "1fDcY8vVJO4W"
      }
    },
    {
      "cell_type": "code",
      "execution_count": null,
      "metadata": {
        "id": "DWINBiN4skLu"
      },
      "outputs": [],
      "source": [
        "import pandas as pd\n",
        "import numpy as np\n",
        "from sklearn.feature_extraction.text import TfidfVectorizer\n",
        "import pinecone\n",
        "import faiss"
      ]
    },
    {
      "cell_type": "markdown",
      "source": [
        "#Load the Dataset"
      ],
      "metadata": {
        "id": "pdGiGJkDJ536"
      }
    },
    {
      "cell_type": "code",
      "source": [
        "data=pd.read_csv('/content/product_vdb.csv')\n",
        "data"
      ],
      "metadata": {
        "id": "GoqcfKbrG6eo"
      },
      "execution_count": null,
      "outputs": []
    },
    {
      "cell_type": "code",
      "source": [
        "data.isnull().sum()"
      ],
      "metadata": {
        "id": "lBBEONWGHSxX"
      },
      "execution_count": null,
      "outputs": []
    },
    {
      "cell_type": "code",
      "source": [
        "data[data.duplicated()=='True']"
      ],
      "metadata": {
        "id": "7v8gcU5QHTka"
      },
      "execution_count": null,
      "outputs": []
    },
    {
      "cell_type": "code",
      "source": [
        "data.info()"
      ],
      "metadata": {
        "id": "YpjMtyV5HUAR"
      },
      "execution_count": null,
      "outputs": []
    },
    {
      "cell_type": "markdown",
      "source": [
        "#PineCone Vector Database"
      ],
      "metadata": {
        "id": "hbsDK8m4J8Uh"
      }
    },
    {
      "cell_type": "code",
      "source": [
        "\n",
        "from pinecone import Pinecone, PodSpec\n",
        "\n",
        "pc = Pinecone(api_key='API KEY')\n"
      ],
      "metadata": {
        "id": "IuTdg81UHUgk"
      },
      "execution_count": null,
      "outputs": []
    },
    {
      "cell_type": "markdown",
      "source": [
        "#Encoder"
      ],
      "metadata": {
        "id": "m-dCGfJpKBT2"
      }
    },
    {
      "cell_type": "code",
      "source": [
        "tfidf_vectorizer = TfidfVectorizer(max_features=512)\n",
        "\n",
        "#or\n",
        "#from sentence_transformers import SentenceTransformer\n",
        "#model = SentenceTransformer('bert-base-nli-mean-tokens')\n",
        "#embeding = model.encode(\"This is sentence\")"
      ],
      "metadata": {
        "id": "hIeQNn4IHU66"
      },
      "execution_count": null,
      "outputs": []
    },
    {
      "cell_type": "markdown",
      "source": [
        "#Create a vector Database in Pinecone"
      ],
      "metadata": {
        "id": "zoZhvi8UKEkk"
      }
    },
    {
      "cell_type": "code",
      "source": [
        "index_name = \"testing3\"\n",
        "\n",
        "pc.create_index(\n",
        "    name=index_name,\n",
        "    dimension=512,\n",
        "    metric=\"cosine\",\n",
        "    spec=ServerlessSpec(\n",
        "        cloud='aws',\n",
        "        region='us-east-1'\n",
        "    )\n",
        ")"
      ],
      "metadata": {
        "id": "yyPc0d98HVR2"
      },
      "execution_count": null,
      "outputs": []
    },
    {
      "cell_type": "code",
      "source": [
        "index=pc.Index('testing3')"
      ],
      "metadata": {
        "id": "QQwKQaRQHV3E"
      },
      "execution_count": null,
      "outputs": []
    },
    {
      "cell_type": "markdown",
      "source": [
        "#Insert the data into the DataBase"
      ],
      "metadata": {
        "id": "ypao8RAtKJ1w"
      }
    },
    {
      "cell_type": "code",
      "source": [
        "question_list = []\n",
        "for i,row in data.iterrows():\n",
        "\n",
        "  encoded_vector = model.encode(row['Product Name']).tolist()\n",
        "  question_list.append(\n",
        "      (\n",
        "        str(i),\n",
        "        encoded_vector,\n",
        "        {\n",
        "            'MRP': int(row['MRP']),\n",
        "            'Short description': row['Short description']\n",
        "        }\n",
        "      )\n",
        "  )\n",
        "  if len(question_list)==50:\n",
        "    index.upsert(vectors=question_list)\n",
        "    question_list = []\n"
      ],
      "metadata": {
        "id": "1O_FATlUH9Go"
      },
      "execution_count": null,
      "outputs": []
    },
    {
      "cell_type": "markdown",
      "source": [
        "#Testing"
      ],
      "metadata": {
        "id": "IXb1VLJHKPVT"
      }
    },
    {
      "cell_type": "code",
      "source": [
        "query = \"Men Grey Pure Cotton Printed Spread Collar Roll Up Sleeves Casual Shirt\"\n",
        "xq = model.encode([query]).tolist()\n",
        "result = index.query(vector=xq, top_k=5, includeMetadata=True)\n",
        "result"
      ],
      "metadata": {
        "id": "EozTjn9AIAeZ"
      },
      "execution_count": null,
      "outputs": []
    },
    {
      "cell_type": "markdown",
      "source": [
        "{'matches': [{'id': '0',\n",
        "              'metadata': {'MRP': 2199.0,\n",
        "                           'Short description': 'Grey abstract printed opaque '\n",
        "                                                'Casual shirt ,has a spread '\n",
        "                                                'collar, button placket, 1 '\n",
        "                                                'patch pocket, long roll-up '\n",
        "                                                'sleeves, curved hem'},\n",
        "              'score': 1.00023592,\n",
        "              'values': []},\n",
        "             {'id': '836',\n",
        "              'metadata': {'MRP': 1899.0,\n",
        "                           'Short description': 'Grey striped opaque Casual '\n",
        "                                                'shirt ,has a spread collar, '\n",
        "                                                'button placket, short regular '\n",
        "                                                'sleeves, curved hem'},\n",
        "              'score': 0.962794363,\n",
        "              'values': []},\n",
        "             {'id': '1787',\n",
        "              'metadata': {'MRP': 1499.0,\n",
        "                           'Short description': 'Grey solid opaque Casual '\n",
        "                                                'shirt ,has a spread collar, '\n",
        "                                                'button placket, 1 patch '\n",
        "                                                'pocket, short regular '\n",
        "                                                'sleeves, curved hem'},\n",
        "              'score': 0.958695352,\n",
        "              'values': []},\n",
        "             {'id': '3518',\n",
        "              'metadata': {'MRP': 1799.0,\n",
        "                           'Short description': 'Grey geometric printed opaque '\n",
        "                                                'Casual shirt ,has a mandarin '\n",
        "                                                'collar, button placket, short '\n",
        "                                                'regular sleeves, curved hem'},\n",
        "              'score': 0.952561378,\n",
        "              'values': []},\n",
        "             {'id': '1527',\n",
        "              'metadata': {'MRP': 1399.0,\n",
        "                           'Short description': 'Grey Micro disty printed '\n",
        "                                                'opaque Casual shirt ,has a '\n",
        "                                                'spread collar, button '\n",
        "                                                'placket, 1 patch pocket, long '\n",
        "                                                'regular sleeves, curved hem'},\n",
        "              'score': 0.952561378,\n",
        "              'values': []}],\n",
        " 'namespace': '',\n",
        " 'usage': {'read_units': 6}}"
      ],
      "metadata": {
        "id": "DDzuU9XkIITP"
      }
    },
    {
      "cell_type": "code",
      "source": [
        "ids = [match['id'] for match in result['matches']]\n",
        "\n",
        "\n",
        "print(ids)\n",
        "\n",
        "for i in ids:\n",
        "  print(data.iloc[int(i)])"
      ],
      "metadata": {
        "id": "0nsPwMWoILFC"
      },
      "execution_count": null,
      "outputs": []
    },
    {
      "cell_type": "markdown",
      "source": [
        "#Faiss - Vector DataBase"
      ],
      "metadata": {
        "id": "9upuK0A2IW3r"
      }
    },
    {
      "cell_type": "code",
      "source": [
        "product = data['Product Name']\n",
        "vectors = model.encode(product)"
      ],
      "metadata": {
        "id": "vjvIo6DTISSU"
      },
      "execution_count": null,
      "outputs": []
    },
    {
      "cell_type": "code",
      "source": [
        "import faiss\n",
        "\n",
        "tfidf_vectorizer = TfidfVectorizer()\n",
        "\n",
        "\n",
        "tfidf_vectors = tfidf_vectorizer.fit_transform(product)\n",
        "\n",
        "\n",
        "normalized_tfidf_vectors = tfidf_vectors / np.linalg.norm(tfidf_vectors, axis=1)[:, np.newaxis]\n",
        "\n",
        "\n",
        "vector_dimension = normalized_tfidf_vectors.shape[1]\n",
        "\n",
        "\n",
        "index = faiss.IndexFlatL2(vector_dimension)\n",
        "\n",
        "index.add(normalized_tfidf_vectors)"
      ],
      "metadata": {
        "id": "IEYM0PT5Iima"
      },
      "execution_count": null,
      "outputs": []
    },
    {
      "cell_type": "code",
      "source": [
        "search_text = 'Men Grey Pure Cotton Printed Spread Collar Roll Up Sleeves Casual Shirt'\n",
        "search_vector = model.encode(search_text)\n",
        "_vector = np.array([search_vector])\n",
        "faiss.normalize_L2(_vector)\n",
        "\n",
        "k = 5\n",
        "distances, ann = index.search(_vector, k=k)"
      ],
      "metadata": {
        "id": "gIY6s-HtIlru"
      },
      "execution_count": null,
      "outputs": []
    }
  ]
}